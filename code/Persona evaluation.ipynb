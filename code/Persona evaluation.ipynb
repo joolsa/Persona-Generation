{
 "cells": [
  {
   "cell_type": "markdown",
   "metadata": {},
   "source": [
    "## 1: [Diversity](#diversity)\n",
    "## 2: [Fairness](#fairness)\n",
    "## 3: [Consistency](#consistency)"
   ]
  },
  {
   "cell_type": "code",
   "execution_count": 13,
   "metadata": {
    "ExecuteTime": {
     "end_time": "2020-06-17T08:32:58.996718Z",
     "start_time": "2020-06-17T08:32:58.992683Z"
    }
   },
   "outputs": [],
   "source": [
    "import pandas as pd\n",
    "import numpy as np\n",
    "import locale\n",
    "locale.setlocale(locale.LC_ALL, 'en_US')\n",
    "from collections import Counter\n",
    "import matplotlib.pyplot as plt\n",
    "import string\n",
    "import random"
   ]
  },
  {
   "cell_type": "code",
   "execution_count": 14,
   "metadata": {
    "ExecuteTime": {
     "end_time": "2020-06-17T08:33:05.569362Z",
     "start_time": "2020-06-17T08:32:58.997682Z"
    }
   },
   "outputs": [],
   "source": [
    "df = pd.read_csv('Data.csv')\n",
    "\n",
    "#Get total views\n",
    "videoKeys = list(df.columns)\n",
    "videoKeys.remove(\"Unnamed: 0\")\n",
    "df['sumVideoViews'] = df[videoKeys].sum(axis=1)"
   ]
  },
  {
   "cell_type": "code",
   "execution_count": 15,
   "metadata": {
    "ExecuteTime": {
     "end_time": "2020-06-17T08:33:05.956887Z",
     "start_time": "2020-06-17T08:33:05.571362Z"
    }
   },
   "outputs": [],
   "source": [
    "#Extract Country,Age and Gender\n",
    "df['country'] = df['Unnamed: 0'].str.split(\"_\",expand=True)[0]\n",
    "df['age'] = df['Unnamed: 0'].str.split(\"_\",expand=True)[1]\n",
    "df['gender'] = df['Unnamed: 0'].str.split(\"_\",expand=True)[2]\n",
    "\n",
    "df = df.drop('Unnamed: 0',axis=1)"
   ]
  },
  {
   "cell_type": "code",
   "execution_count": 16,
   "metadata": {
    "ExecuteTime": {
     "end_time": "2020-06-17T08:33:06.109515Z",
     "start_time": "2020-06-17T08:33:05.958885Z"
    }
   },
   "outputs": [
    {
     "name": "stdout",
     "output_type": "stream",
     "text": [
      "Total Views 1581079336\n"
     ]
    }
   ],
   "source": [
    "print(\"Total Views\",df[videoKeys].sum(axis=0).sum())"
   ]
  },
  {
   "cell_type": "code",
   "execution_count": 17,
   "metadata": {
    "ExecuteTime": {
     "end_time": "2020-06-17T08:33:06.117514Z",
     "start_time": "2020-06-17T08:33:06.111517Z"
    }
   },
   "outputs": [],
   "source": [
    "df.loc[df.age==\"65-\",'age'] = \"65+\" #Minor Fix"
   ]
  },
  {
   "cell_type": "code",
   "execution_count": 18,
   "metadata": {
    "ExecuteTime": {
     "end_time": "2020-06-17T08:33:06.130516Z",
     "start_time": "2020-06-17T08:33:06.119516Z"
    }
   },
   "outputs": [
    {
     "data": {
      "text/plain": [
       "age\n",
       "25-34    379308837\n",
       "35-44    266945329\n",
       "18-24    251841056\n",
       "45-54    225989220\n",
       "55-64    177114047\n",
       "65+      156130826\n",
       "13-17    123750021\n",
       "Name: sumVideoViews, dtype: int64"
      ]
     },
     "execution_count": 18,
     "metadata": {},
     "output_type": "execute_result"
    }
   ],
   "source": [
    "df.groupby(\"age\")[\"sumVideoViews\"].sum().sort_values(ascending=False)"
   ]
  },
  {
   "cell_type": "code",
   "execution_count": 19,
   "metadata": {
    "ExecuteTime": {
     "end_time": "2020-06-17T08:33:06.140539Z",
     "start_time": "2020-06-17T08:33:06.132515Z"
    }
   },
   "outputs": [
    {
     "data": {
      "text/plain": [
       "country\n",
       "US    114584035\n",
       "IN     56850635\n",
       "GB     38824159\n",
       "CA     32873633\n",
       "MY     21705597\n",
       "PK     20176644\n",
       "AU     19427786\n",
       "PH     18552997\n",
       "DE     16990377\n",
       "ZA     16731074\n",
       "Name: sumVideoViews, dtype: int64"
      ]
     },
     "execution_count": 19,
     "metadata": {},
     "output_type": "execute_result"
    }
   ],
   "source": [
    "#Top 10 countries by view\n",
    "df.groupby(\"country\")[\"sumVideoViews\"].sum().sort_values(ascending=False)[:10]"
   ]
  },
  {
   "cell_type": "code",
   "execution_count": 20,
   "metadata": {
    "ExecuteTime": {
     "end_time": "2020-06-17T08:33:06.146520Z",
     "start_time": "2020-06-17T08:33:06.142511Z"
    }
   },
   "outputs": [],
   "source": [
    "dralgos = [\"Clustering\",\"PCA\",\"NMF\",\"LDA\",\"SE\",\"UMAP\"]"
   ]
  },
  {
   "cell_type": "code",
   "execution_count": 21,
   "metadata": {
    "ExecuteTime": {
     "end_time": "2020-06-17T08:33:06.159516Z",
     "start_time": "2020-06-17T08:33:06.148516Z"
    }
   },
   "outputs": [],
   "source": [
    "def fixAge(temp): #Change Age Format\n",
    "    for i in range(temp.iloc[1,1:].shape[0]):\n",
    "        if int(temp.iloc[1,1+i]) <= 17:\n",
    "            temp.iloc[1,1+i] = \"13-17\"\n",
    "        elif int(temp.iloc[1,1+i]) > 17 and int(temp.iloc[1,1+i]) <= 24:\n",
    "            temp.iloc[1,1+i] = \"18-24\"\n",
    "        elif int(temp.iloc[1,1+i]) > 24 and int(temp.iloc[1,1+i]) <= 34:\n",
    "            temp.iloc[1,1+i] = \"25-34\"\n",
    "        elif int(temp.iloc[1,1+i]) > 34 and int(temp.iloc[1,1+i]) <= 44:\n",
    "            temp.iloc[1,1+i] = \"35-44\"\n",
    "        elif int(temp.iloc[1,1+i]) > 44 and int(temp.iloc[1,1+i]) <= 54:\n",
    "            temp.iloc[1,1+i] = \"45-54\"\n",
    "        elif int(temp.iloc[1,1+i]) > 54 and int(temp.iloc[1,1+i]) <= 64:\n",
    "            temp.iloc[1,1+i] = \"55-64\"\n",
    "        elif int(temp.iloc[1,1+i]) > 64:\n",
    "            temp.iloc[1,1+i] = \"65+\"\n",
    "\n",
    "    return temp"
   ]
  },
  {
   "cell_type": "code",
   "execution_count": 22,
   "metadata": {
    "ExecuteTime": {
     "end_time": "2020-06-17T08:33:06.168517Z",
     "start_time": "2020-06-17T08:33:06.161517Z"
    }
   },
   "outputs": [
    {
     "data": {
      "text/plain": [
       "185"
      ]
     },
     "execution_count": 22,
     "metadata": {},
     "output_type": "execute_result"
    }
   ],
   "source": [
    "df[\"country\"].nunique()"
   ]
  },
  {
   "cell_type": "code",
   "execution_count": 23,
   "metadata": {
    "ExecuteTime": {
     "end_time": "2020-06-17T08:33:07.654361Z",
     "start_time": "2020-06-17T08:33:06.170516Z"
    }
   },
   "outputs": [],
   "source": [
    "ccdf = pd.read_csv(\"CountryCode.csv\") #Read country code DF\n",
    "for i in range(df.shape[0]): #Change Country codes to full country names\n",
    "    if df[\"country\"].iloc[i] == \"NA\": #Pandas converted \"NA\" to \"null\", when we read the above csv file. So just fixing that.\n",
    "        df[\"country\"].iloc[i] = \"Namibia\"\n",
    "    else:\n",
    "        df[\"country\"].iloc[i] = ccdf.loc[ccdf[\"Code\"]==df[\"country\"].iloc[i],'Name'].iloc[0]"
   ]
  },
  {
   "cell_type": "code",
   "execution_count": 24,
   "metadata": {
    "ExecuteTime": {
     "end_time": "2020-06-17T08:33:07.661347Z",
     "start_time": "2020-06-17T08:33:07.656352Z"
    }
   },
   "outputs": [
    {
     "data": {
      "text/plain": [
       "185"
      ]
     },
     "execution_count": 24,
     "metadata": {},
     "output_type": "execute_result"
    }
   ],
   "source": [
    "df[\"country\"].nunique()"
   ]
  },
  {
   "cell_type": "code",
   "execution_count": 25,
   "metadata": {
    "ExecuteTime": {
     "end_time": "2020-06-17T08:33:28.748505Z",
     "start_time": "2020-06-17T08:33:28.264540Z"
    }
   },
   "outputs": [],
   "source": [
    "totalViews = df[\"sumVideoViews\"].sum()\n",
    "\n",
    "\n",
    "#Append all personas in a list\n",
    "dfs = []\n",
    "for dralgo in dralgos:\n",
    "    for i in range(3):\n",
    "        temp = pd.read_excel(\"personas/\"+dralgo+\".xlsx\",sheet_name=2-i)\n",
    "        temp = fixAge(temp)\n",
    "        dfs.append([temp,temp.shape[1]-1,dralgo])"
   ]
  },
  {
   "cell_type": "code",
   "execution_count": null,
   "metadata": {},
   "outputs": [],
   "source": [
    "\n",
    "#Create a CSV file to store the results\n",
    "outputDF = pd.DataFrame(columns=[\"Dimensionality Reduction Algorithm\",\"Number of Personas\",\"GroupName\",\"Subject\",\"Percentage in Original Data\",\"Unique Values in Original Data\",\"Count in Persona Set\",\"Percentage in Persona set\",\"Total Unique Values in Persona Set\",\"Statistical Parity\"])"
   ]
  },
  {
   "cell_type": "markdown",
   "metadata": {},
   "source": [
    "# <a id=\"diversity\">Diversity</a>"
   ]
  },
  {
   "cell_type": "code",
   "execution_count": 31,
   "metadata": {
    "ExecuteTime": {
     "end_time": "2020-06-17T08:40:19.782600Z",
     "start_time": "2020-06-17T08:40:19.777602Z"
    }
   },
   "outputs": [],
   "source": [
    "#Create a CSV file to store the results\n",
    "tempdf = pd.DataFrame(columns=[\"Dimensionality Reduction Algorithm\",\"Number of Personas\",\"GroupName\",\"Unique Values in Original Data\",\"Total Unique Values in Persona Set\"])"
   ]
  },
  {
   "cell_type": "code",
   "execution_count": 32,
   "metadata": {
    "ExecuteTime": {
     "end_time": "2020-06-17T08:40:20.108599Z",
     "start_time": "2020-06-17T08:40:20.052601Z"
    }
   },
   "outputs": [],
   "source": [
    "for cdf in dfs:\n",
    "    tempdf = tempdf.append(pd.DataFrame([[cdf[2],cdf[1],\"Gender\",df[\"gender\"].nunique(),cdf[0].iloc[2,1:].nunique()]], columns=tempdf.columns))\n"
   ]
  },
  {
   "cell_type": "code",
   "execution_count": 33,
   "metadata": {
    "ExecuteTime": {
     "end_time": "2020-06-17T08:40:20.451953Z",
     "start_time": "2020-06-17T08:40:20.392956Z"
    }
   },
   "outputs": [],
   "source": [
    "for cdf in dfs:\n",
    "    tempdf = tempdf.append(pd.DataFrame([[cdf[2],cdf[1],\"Age\",df[\"age\"].nunique(),cdf[0].iloc[1,1:].nunique()]], columns=tempdf.columns))\n"
   ]
  },
  {
   "cell_type": "code",
   "execution_count": 38,
   "metadata": {
    "ExecuteTime": {
     "end_time": "2020-06-17T08:41:42.289803Z",
     "start_time": "2020-06-17T08:41:42.233802Z"
    }
   },
   "outputs": [],
   "source": [
    "for cdf in dfs:\n",
    "    tempdf = tempdf.append(pd.DataFrame([[cdf[2],cdf[1],\"Country\",df[\"country\"].nunique(),cdf[0].iloc[3,1:].nunique()]], columns=tempdf.columns))"
   ]
  },
  {
   "cell_type": "code",
   "execution_count": 40,
   "metadata": {
    "ExecuteTime": {
     "end_time": "2020-06-17T08:41:50.947062Z",
     "start_time": "2020-06-17T08:41:50.932059Z"
    }
   },
   "outputs": [],
   "source": [
    "diversitydf = tempdf.groupby([\"Dimensionality Reduction Algorithm\",\"Number of Personas\",\"GroupName\"], as_index=False)[\"Total Unique Values in Persona Set\"].first()"
   ]
  },
  {
   "cell_type": "code",
   "execution_count": 41,
   "metadata": {
    "ExecuteTime": {
     "end_time": "2020-06-17T08:41:52.853685Z",
     "start_time": "2020-06-17T08:41:52.840883Z"
    }
   },
   "outputs": [],
   "source": [
    "diversitydf[\"persona_group\"] = \"coverage\"+\"_\"+diversitydf[\"GroupName\"] + \"_\" + diversitydf[\"Number of Personas\"].astype(str)\n",
    "diversitydf = diversitydf.drop([\"Number of Personas\",\"GroupName\"],axis=1)"
   ]
  },
  {
   "cell_type": "code",
   "execution_count": 42,
   "metadata": {
    "ExecuteTime": {
     "end_time": "2020-06-17T08:41:54.564451Z",
     "start_time": "2020-06-17T08:41:54.556410Z"
    }
   },
   "outputs": [],
   "source": [
    "diversitydf = diversitydf.pivot(index='persona_group', columns='Dimensionality Reduction Algorithm', values='Total Unique Values in Persona Set')"
   ]
  },
  {
   "cell_type": "code",
   "execution_count": 43,
   "metadata": {
    "ExecuteTime": {
     "end_time": "2020-06-17T08:41:54.934098Z",
     "start_time": "2020-06-17T08:41:54.929097Z"
    }
   },
   "outputs": [],
   "source": [
    "diversitydf = diversitydf.reset_index().rename_axis(None, axis=1)"
   ]
  },
  {
   "cell_type": "code",
   "execution_count": 44,
   "metadata": {
    "ExecuteTime": {
     "end_time": "2020-06-17T08:41:56.074200Z",
     "start_time": "2020-06-17T08:41:56.067197Z"
    }
   },
   "outputs": [
    {
     "data": {
      "text/html": [
       "<div>\n",
       "<style scoped>\n",
       "    .dataframe tbody tr th:only-of-type {\n",
       "        vertical-align: middle;\n",
       "    }\n",
       "\n",
       "    .dataframe tbody tr th {\n",
       "        vertical-align: top;\n",
       "    }\n",
       "\n",
       "    .dataframe thead th {\n",
       "        text-align: right;\n",
       "    }\n",
       "</style>\n",
       "<table border=\"1\" class=\"dataframe\">\n",
       "  <thead>\n",
       "    <tr style=\"text-align: right;\">\n",
       "      <th></th>\n",
       "      <th>persona_group</th>\n",
       "      <th>Clustering</th>\n",
       "      <th>LDA</th>\n",
       "      <th>NMF</th>\n",
       "      <th>PCA</th>\n",
       "      <th>SE</th>\n",
       "      <th>UMAP</th>\n",
       "    </tr>\n",
       "  </thead>\n",
       "  <tbody>\n",
       "    <tr>\n",
       "      <th>0</th>\n",
       "      <td>coverage_Age_10</td>\n",
       "      <td>5</td>\n",
       "      <td>4</td>\n",
       "      <td>4</td>\n",
       "      <td>3</td>\n",
       "      <td>6</td>\n",
       "      <td>3</td>\n",
       "    </tr>\n",
       "    <tr>\n",
       "      <th>1</th>\n",
       "      <td>coverage_Age_15</td>\n",
       "      <td>5</td>\n",
       "      <td>6</td>\n",
       "      <td>7</td>\n",
       "      <td>3</td>\n",
       "      <td>6</td>\n",
       "      <td>6</td>\n",
       "    </tr>\n",
       "    <tr>\n",
       "      <th>2</th>\n",
       "      <td>coverage_Age_5</td>\n",
       "      <td>3</td>\n",
       "      <td>3</td>\n",
       "      <td>3</td>\n",
       "      <td>3</td>\n",
       "      <td>5</td>\n",
       "      <td>4</td>\n",
       "    </tr>\n",
       "    <tr>\n",
       "      <th>3</th>\n",
       "      <td>coverage_Country_10</td>\n",
       "      <td>3</td>\n",
       "      <td>6</td>\n",
       "      <td>3</td>\n",
       "      <td>8</td>\n",
       "      <td>7</td>\n",
       "      <td>6</td>\n",
       "    </tr>\n",
       "    <tr>\n",
       "      <th>4</th>\n",
       "      <td>coverage_Country_15</td>\n",
       "      <td>4</td>\n",
       "      <td>9</td>\n",
       "      <td>15</td>\n",
       "      <td>5</td>\n",
       "      <td>10</td>\n",
       "      <td>10</td>\n",
       "    </tr>\n",
       "    <tr>\n",
       "      <th>5</th>\n",
       "      <td>coverage_Country_5</td>\n",
       "      <td>1</td>\n",
       "      <td>3</td>\n",
       "      <td>2</td>\n",
       "      <td>2</td>\n",
       "      <td>2</td>\n",
       "      <td>3</td>\n",
       "    </tr>\n",
       "    <tr>\n",
       "      <th>6</th>\n",
       "      <td>coverage_Gender_10</td>\n",
       "      <td>2</td>\n",
       "      <td>2</td>\n",
       "      <td>2</td>\n",
       "      <td>2</td>\n",
       "      <td>2</td>\n",
       "      <td>2</td>\n",
       "    </tr>\n",
       "    <tr>\n",
       "      <th>7</th>\n",
       "      <td>coverage_Gender_15</td>\n",
       "      <td>2</td>\n",
       "      <td>2</td>\n",
       "      <td>2</td>\n",
       "      <td>1</td>\n",
       "      <td>2</td>\n",
       "      <td>2</td>\n",
       "    </tr>\n",
       "    <tr>\n",
       "      <th>8</th>\n",
       "      <td>coverage_Gender_5</td>\n",
       "      <td>2</td>\n",
       "      <td>2</td>\n",
       "      <td>2</td>\n",
       "      <td>2</td>\n",
       "      <td>2</td>\n",
       "      <td>2</td>\n",
       "    </tr>\n",
       "  </tbody>\n",
       "</table>\n",
       "</div>"
      ],
      "text/plain": [
       "         persona_group  Clustering  LDA  NMF  PCA  SE  UMAP\n",
       "0      coverage_Age_10           5    4    4    3   6     3\n",
       "1      coverage_Age_15           5    6    7    3   6     6\n",
       "2       coverage_Age_5           3    3    3    3   5     4\n",
       "3  coverage_Country_10           3    6    3    8   7     6\n",
       "4  coverage_Country_15           4    9   15    5  10    10\n",
       "5   coverage_Country_5           1    3    2    2   2     3\n",
       "6   coverage_Gender_10           2    2    2    2   2     2\n",
       "7   coverage_Gender_15           2    2    2    1   2     2\n",
       "8    coverage_Gender_5           2    2    2    2   2     2"
      ]
     },
     "execution_count": 44,
     "metadata": {},
     "output_type": "execute_result"
    }
   ],
   "source": [
    "diversitydf"
   ]
  },
  {
   "cell_type": "code",
   "execution_count": 45,
   "metadata": {
    "ExecuteTime": {
     "end_time": "2020-06-17T08:42:00.066191Z",
     "start_time": "2020-06-17T08:42:00.061225Z"
    }
   },
   "outputs": [],
   "source": [
    "uniqueValues = tempdf.groupby([\"GroupName\"])[\"Unique Values in Original Data\"].first()"
   ]
  },
  {
   "cell_type": "code",
   "execution_count": 46,
   "metadata": {
    "ExecuteTime": {
     "end_time": "2020-06-17T08:42:03.333620Z",
     "start_time": "2020-06-17T08:42:03.274624Z"
    }
   },
   "outputs": [],
   "source": [
    "for group in [\"Age\",\"Country\",\"Gender\"]:\n",
    "    for numPersonas in [5,10,15]:\n",
    "        persona_group = \"coverage_\"+group+\"_\"+str(numPersonas)\n",
    "        diversitydf = diversitydf.append(pd.DataFrame([[persona_group+\"_percentage\",\"\",\"\",\"\",\"\",\"\",\"\"]], columns=diversitydf.columns))\n",
    "        for algorithm in diversitydf.columns[1:]:\n",
    "            uniqueNumInPersona = int(diversitydf.loc[diversitydf[\"persona_group\"]==persona_group,algorithm].iloc[0])\n",
    "            uniqueNumInData = uniqueValues[group]\n",
    "            diversitydf[algorithm].iloc[diversitydf.shape[0]-1] = uniqueNumInPersona/uniqueNumInData*100"
   ]
  },
  {
   "cell_type": "code",
   "execution_count": 47,
   "metadata": {
    "ExecuteTime": {
     "end_time": "2020-06-17T08:42:05.278760Z",
     "start_time": "2020-06-17T08:42:05.272745Z"
    }
   },
   "outputs": [
    {
     "data": {
      "text/plain": [
       "194"
      ]
     },
     "execution_count": 47,
     "metadata": {},
     "output_type": "execute_result"
    }
   ],
   "source": [
    "TotalUniqueValues = df[\"country\"].nunique()+df[\"age\"].nunique()+df[\"gender\"].nunique()\n",
    "TotalUniqueValues"
   ]
  },
  {
   "cell_type": "code",
   "execution_count": 48,
   "metadata": {
    "ExecuteTime": {
     "end_time": "2020-06-17T08:42:07.238362Z",
     "start_time": "2020-06-17T08:42:07.213363Z"
    }
   },
   "outputs": [],
   "source": [
    "for numPersona in [5,10,15]:\n",
    "    total = np.zeros((len(dralgos)))\n",
    "    for group in [\"Country\",\"Age\",\"Gender\"]:\n",
    "        personaGroup = \"coverage_\"+group+\"_\"+str(numPersona)\n",
    "        total = diversitydf.loc[diversitydf[\"persona_group\"]==personaGroup].iloc[0,1:].values + total\n",
    "    diversitydf = diversitydf.append(pd.DataFrame([[\"coverage_All_\"+str(numPersona)]+total.tolist() ], columns=diversitydf.columns))\n",
    "    \n",
    "    total_perc = total/TotalUniqueValues\n",
    "    diversitydf = diversitydf.append(pd.DataFrame([[\"coverage_All_\"+str(numPersona)+\"__percentage\"]+total_perc.tolist() ], columns=diversitydf.columns))"
   ]
  },
  {
   "cell_type": "code",
   "execution_count": 49,
   "metadata": {
    "ExecuteTime": {
     "end_time": "2020-06-17T08:42:08.049643Z",
     "start_time": "2020-06-17T08:42:08.036639Z"
    },
    "scrolled": true
   },
   "outputs": [
    {
     "data": {
      "text/html": [
       "<div>\n",
       "<style scoped>\n",
       "    .dataframe tbody tr th:only-of-type {\n",
       "        vertical-align: middle;\n",
       "    }\n",
       "\n",
       "    .dataframe tbody tr th {\n",
       "        vertical-align: top;\n",
       "    }\n",
       "\n",
       "    .dataframe thead th {\n",
       "        text-align: right;\n",
       "    }\n",
       "</style>\n",
       "<table border=\"1\" class=\"dataframe\">\n",
       "  <thead>\n",
       "    <tr style=\"text-align: right;\">\n",
       "      <th></th>\n",
       "      <th>persona_group</th>\n",
       "      <th>Clustering</th>\n",
       "      <th>LDA</th>\n",
       "      <th>NMF</th>\n",
       "      <th>PCA</th>\n",
       "      <th>SE</th>\n",
       "      <th>UMAP</th>\n",
       "    </tr>\n",
       "  </thead>\n",
       "  <tbody>\n",
       "    <tr>\n",
       "      <th>0</th>\n",
       "      <td>coverage_Age_10</td>\n",
       "      <td>5</td>\n",
       "      <td>4</td>\n",
       "      <td>4</td>\n",
       "      <td>3</td>\n",
       "      <td>6</td>\n",
       "      <td>3</td>\n",
       "    </tr>\n",
       "    <tr>\n",
       "      <th>1</th>\n",
       "      <td>coverage_Age_15</td>\n",
       "      <td>5</td>\n",
       "      <td>6</td>\n",
       "      <td>7</td>\n",
       "      <td>3</td>\n",
       "      <td>6</td>\n",
       "      <td>6</td>\n",
       "    </tr>\n",
       "    <tr>\n",
       "      <th>2</th>\n",
       "      <td>coverage_Age_5</td>\n",
       "      <td>3</td>\n",
       "      <td>3</td>\n",
       "      <td>3</td>\n",
       "      <td>3</td>\n",
       "      <td>5</td>\n",
       "      <td>4</td>\n",
       "    </tr>\n",
       "    <tr>\n",
       "      <th>3</th>\n",
       "      <td>coverage_Country_10</td>\n",
       "      <td>3</td>\n",
       "      <td>6</td>\n",
       "      <td>3</td>\n",
       "      <td>8</td>\n",
       "      <td>7</td>\n",
       "      <td>6</td>\n",
       "    </tr>\n",
       "    <tr>\n",
       "      <th>4</th>\n",
       "      <td>coverage_Country_15</td>\n",
       "      <td>4</td>\n",
       "      <td>9</td>\n",
       "      <td>15</td>\n",
       "      <td>5</td>\n",
       "      <td>10</td>\n",
       "      <td>10</td>\n",
       "    </tr>\n",
       "    <tr>\n",
       "      <th>5</th>\n",
       "      <td>coverage_Country_5</td>\n",
       "      <td>1</td>\n",
       "      <td>3</td>\n",
       "      <td>2</td>\n",
       "      <td>2</td>\n",
       "      <td>2</td>\n",
       "      <td>3</td>\n",
       "    </tr>\n",
       "    <tr>\n",
       "      <th>6</th>\n",
       "      <td>coverage_Gender_10</td>\n",
       "      <td>2</td>\n",
       "      <td>2</td>\n",
       "      <td>2</td>\n",
       "      <td>2</td>\n",
       "      <td>2</td>\n",
       "      <td>2</td>\n",
       "    </tr>\n",
       "    <tr>\n",
       "      <th>7</th>\n",
       "      <td>coverage_Gender_15</td>\n",
       "      <td>2</td>\n",
       "      <td>2</td>\n",
       "      <td>2</td>\n",
       "      <td>1</td>\n",
       "      <td>2</td>\n",
       "      <td>2</td>\n",
       "    </tr>\n",
       "    <tr>\n",
       "      <th>8</th>\n",
       "      <td>coverage_Gender_5</td>\n",
       "      <td>2</td>\n",
       "      <td>2</td>\n",
       "      <td>2</td>\n",
       "      <td>2</td>\n",
       "      <td>2</td>\n",
       "      <td>2</td>\n",
       "    </tr>\n",
       "    <tr>\n",
       "      <th>0</th>\n",
       "      <td>coverage_Age_5_percentage</td>\n",
       "      <td>42.8571</td>\n",
       "      <td>42.8571</td>\n",
       "      <td>42.8571</td>\n",
       "      <td>42.8571</td>\n",
       "      <td>71.4286</td>\n",
       "      <td>57.1429</td>\n",
       "    </tr>\n",
       "    <tr>\n",
       "      <th>0</th>\n",
       "      <td>coverage_Age_10_percentage</td>\n",
       "      <td>71.4286</td>\n",
       "      <td>57.1429</td>\n",
       "      <td>57.1429</td>\n",
       "      <td>42.8571</td>\n",
       "      <td>85.7143</td>\n",
       "      <td>42.8571</td>\n",
       "    </tr>\n",
       "    <tr>\n",
       "      <th>0</th>\n",
       "      <td>coverage_Age_15_percentage</td>\n",
       "      <td>71.4286</td>\n",
       "      <td>85.7143</td>\n",
       "      <td>100</td>\n",
       "      <td>42.8571</td>\n",
       "      <td>85.7143</td>\n",
       "      <td>85.7143</td>\n",
       "    </tr>\n",
       "    <tr>\n",
       "      <th>0</th>\n",
       "      <td>coverage_Country_5_percentage</td>\n",
       "      <td>0.540541</td>\n",
       "      <td>1.62162</td>\n",
       "      <td>1.08108</td>\n",
       "      <td>1.08108</td>\n",
       "      <td>1.08108</td>\n",
       "      <td>1.62162</td>\n",
       "    </tr>\n",
       "    <tr>\n",
       "      <th>0</th>\n",
       "      <td>coverage_Country_10_percentage</td>\n",
       "      <td>1.62162</td>\n",
       "      <td>3.24324</td>\n",
       "      <td>1.62162</td>\n",
       "      <td>4.32432</td>\n",
       "      <td>3.78378</td>\n",
       "      <td>3.24324</td>\n",
       "    </tr>\n",
       "    <tr>\n",
       "      <th>0</th>\n",
       "      <td>coverage_Country_15_percentage</td>\n",
       "      <td>2.16216</td>\n",
       "      <td>4.86486</td>\n",
       "      <td>8.10811</td>\n",
       "      <td>2.7027</td>\n",
       "      <td>5.40541</td>\n",
       "      <td>5.40541</td>\n",
       "    </tr>\n",
       "    <tr>\n",
       "      <th>0</th>\n",
       "      <td>coverage_Gender_5_percentage</td>\n",
       "      <td>100</td>\n",
       "      <td>100</td>\n",
       "      <td>100</td>\n",
       "      <td>100</td>\n",
       "      <td>100</td>\n",
       "      <td>100</td>\n",
       "    </tr>\n",
       "    <tr>\n",
       "      <th>0</th>\n",
       "      <td>coverage_Gender_10_percentage</td>\n",
       "      <td>100</td>\n",
       "      <td>100</td>\n",
       "      <td>100</td>\n",
       "      <td>100</td>\n",
       "      <td>100</td>\n",
       "      <td>100</td>\n",
       "    </tr>\n",
       "    <tr>\n",
       "      <th>0</th>\n",
       "      <td>coverage_Gender_15_percentage</td>\n",
       "      <td>100</td>\n",
       "      <td>100</td>\n",
       "      <td>100</td>\n",
       "      <td>50</td>\n",
       "      <td>100</td>\n",
       "      <td>100</td>\n",
       "    </tr>\n",
       "    <tr>\n",
       "      <th>0</th>\n",
       "      <td>coverage_All_5</td>\n",
       "      <td>6</td>\n",
       "      <td>8</td>\n",
       "      <td>7</td>\n",
       "      <td>7</td>\n",
       "      <td>9</td>\n",
       "      <td>9</td>\n",
       "    </tr>\n",
       "    <tr>\n",
       "      <th>0</th>\n",
       "      <td>coverage_All_5__percentage</td>\n",
       "      <td>0.0309278</td>\n",
       "      <td>0.0412371</td>\n",
       "      <td>0.0360825</td>\n",
       "      <td>0.0360825</td>\n",
       "      <td>0.0463918</td>\n",
       "      <td>0.0463918</td>\n",
       "    </tr>\n",
       "    <tr>\n",
       "      <th>0</th>\n",
       "      <td>coverage_All_10</td>\n",
       "      <td>10</td>\n",
       "      <td>12</td>\n",
       "      <td>9</td>\n",
       "      <td>13</td>\n",
       "      <td>15</td>\n",
       "      <td>11</td>\n",
       "    </tr>\n",
       "    <tr>\n",
       "      <th>0</th>\n",
       "      <td>coverage_All_10__percentage</td>\n",
       "      <td>0.0515464</td>\n",
       "      <td>0.0618557</td>\n",
       "      <td>0.0463918</td>\n",
       "      <td>0.0670103</td>\n",
       "      <td>0.0773196</td>\n",
       "      <td>0.056701</td>\n",
       "    </tr>\n",
       "    <tr>\n",
       "      <th>0</th>\n",
       "      <td>coverage_All_15</td>\n",
       "      <td>11</td>\n",
       "      <td>17</td>\n",
       "      <td>24</td>\n",
       "      <td>9</td>\n",
       "      <td>18</td>\n",
       "      <td>18</td>\n",
       "    </tr>\n",
       "    <tr>\n",
       "      <th>0</th>\n",
       "      <td>coverage_All_15__percentage</td>\n",
       "      <td>0.056701</td>\n",
       "      <td>0.0876289</td>\n",
       "      <td>0.123711</td>\n",
       "      <td>0.0463918</td>\n",
       "      <td>0.0927835</td>\n",
       "      <td>0.0927835</td>\n",
       "    </tr>\n",
       "  </tbody>\n",
       "</table>\n",
       "</div>"
      ],
      "text/plain": [
       "                    persona_group Clustering        LDA        NMF        PCA  \\\n",
       "0                 coverage_Age_10          5          4          4          3   \n",
       "1                 coverage_Age_15          5          6          7          3   \n",
       "2                  coverage_Age_5          3          3          3          3   \n",
       "3             coverage_Country_10          3          6          3          8   \n",
       "4             coverage_Country_15          4          9         15          5   \n",
       "5              coverage_Country_5          1          3          2          2   \n",
       "6              coverage_Gender_10          2          2          2          2   \n",
       "7              coverage_Gender_15          2          2          2          1   \n",
       "8               coverage_Gender_5          2          2          2          2   \n",
       "0       coverage_Age_5_percentage    42.8571    42.8571    42.8571    42.8571   \n",
       "0      coverage_Age_10_percentage    71.4286    57.1429    57.1429    42.8571   \n",
       "0      coverage_Age_15_percentage    71.4286    85.7143        100    42.8571   \n",
       "0   coverage_Country_5_percentage   0.540541    1.62162    1.08108    1.08108   \n",
       "0  coverage_Country_10_percentage    1.62162    3.24324    1.62162    4.32432   \n",
       "0  coverage_Country_15_percentage    2.16216    4.86486    8.10811     2.7027   \n",
       "0    coverage_Gender_5_percentage        100        100        100        100   \n",
       "0   coverage_Gender_10_percentage        100        100        100        100   \n",
       "0   coverage_Gender_15_percentage        100        100        100         50   \n",
       "0                  coverage_All_5          6          8          7          7   \n",
       "0      coverage_All_5__percentage  0.0309278  0.0412371  0.0360825  0.0360825   \n",
       "0                 coverage_All_10         10         12          9         13   \n",
       "0     coverage_All_10__percentage  0.0515464  0.0618557  0.0463918  0.0670103   \n",
       "0                 coverage_All_15         11         17         24          9   \n",
       "0     coverage_All_15__percentage   0.056701  0.0876289   0.123711  0.0463918   \n",
       "\n",
       "          SE       UMAP  \n",
       "0          6          3  \n",
       "1          6          6  \n",
       "2          5          4  \n",
       "3          7          6  \n",
       "4         10         10  \n",
       "5          2          3  \n",
       "6          2          2  \n",
       "7          2          2  \n",
       "8          2          2  \n",
       "0    71.4286    57.1429  \n",
       "0    85.7143    42.8571  \n",
       "0    85.7143    85.7143  \n",
       "0    1.08108    1.62162  \n",
       "0    3.78378    3.24324  \n",
       "0    5.40541    5.40541  \n",
       "0        100        100  \n",
       "0        100        100  \n",
       "0        100        100  \n",
       "0          9          9  \n",
       "0  0.0463918  0.0463918  \n",
       "0         15         11  \n",
       "0  0.0773196   0.056701  \n",
       "0         18         18  \n",
       "0  0.0927835  0.0927835  "
      ]
     },
     "execution_count": 49,
     "metadata": {},
     "output_type": "execute_result"
    }
   ],
   "source": [
    "diversitydf"
   ]
  },
  {
   "cell_type": "code",
   "execution_count": 50,
   "metadata": {
    "ExecuteTime": {
     "end_time": "2020-06-17T08:42:11.086495Z",
     "start_time": "2020-06-17T08:42:11.077497Z"
    }
   },
   "outputs": [],
   "source": [
    "diversitydf.to_csv(\"diversitydf.csv\",index=False)"
   ]
  },
  {
   "cell_type": "markdown",
   "metadata": {},
   "source": [
    "# <a id=\"fairness\">Fairness</a>"
   ]
  },
  {
   "cell_type": "markdown",
   "metadata": {},
   "source": [
    "Calculating Fairness for age, gender and country."
   ]
  },
  {
   "cell_type": "code",
   "execution_count": 51,
   "metadata": {
    "ExecuteTime": {
     "end_time": "2020-06-17T08:42:12.630008Z",
     "start_time": "2020-06-17T08:42:12.624007Z"
    }
   },
   "outputs": [],
   "source": [
    "\n",
    "#Create a CSV file to store the results\n",
    "outputDF = pd.DataFrame(columns=[\"Dimensionality Reduction Algorithm\",\"Number of Personas\",\"GroupName\",\"Subject\",\"Percentage in Original Data\",\"Unique Values in Original Data\",\"Count in Persona Set\",\"Percentage in Persona set\",\"Total Unique Values in Persona Set\",\"Statistical Parity\"])"
   ]
  },
  {
   "cell_type": "code",
   "execution_count": 52,
   "metadata": {
    "ExecuteTime": {
     "end_time": "2020-06-17T08:42:13.694953Z",
     "start_time": "2020-06-17T08:42:13.514817Z"
    }
   },
   "outputs": [],
   "source": [
    "#Calculate fairness for gender\n",
    "totalMale = df.loc[df[\"gender\"]==\"male\"].groupby(\"gender\")[\"sumVideoViews\"].sum().values[0]\n",
    "for cdf in dfs:\n",
    "    cTotal = (cdf[0].iloc[2,1:].values==\"male\").sum()\n",
    "    outputDF = outputDF.append(pd.DataFrame([[cdf[2],cdf[1],\"Gender\",\"Male\",np.round(totalMale/totalViews*100,3),df[\"gender\"].nunique(),cTotal,np.round(cTotal/cdf[1]*100,3),cdf[0].iloc[2,1:].nunique(),np.round(cTotal/cdf[1]-totalMale/totalViews,3)]], columns=outputDF.columns))\n"
   ]
  },
  {
   "cell_type": "code",
   "execution_count": 53,
   "metadata": {
    "ExecuteTime": {
     "end_time": "2020-06-17T08:42:14.709832Z",
     "start_time": "2020-06-17T08:42:13.783795Z"
    }
   },
   "outputs": [],
   "source": [
    "#Calculate fairness for Age\n",
    "    \n",
    "for age in [\"25-34\",\"35-44\",\"18-24\",\"45-54\",\"55-64\",\"65+\",\"13-17\"]:\n",
    "    totalAge = df.loc[df[\"age\"]==age].groupby(\"age\")[\"sumVideoViews\"].sum().values[0]\n",
    "    for cdf in dfs:\n",
    "        cTotal = (cdf[0].iloc[1,1:].values==age).sum()\n",
    "        outputDF = outputDF.append(pd.DataFrame([[cdf[2],cdf[1],\"Age\",age,np.round(totalAge/totalViews*100,3),df[\"age\"].nunique(),cTotal,np.round(cTotal/cdf[1]*100,3),cdf[0].iloc[1,1:].nunique(),np.round(cTotal/cdf[1]-totalAge/totalViews,3)]], columns=outputDF.columns))\n"
   ]
  },
  {
   "cell_type": "code",
   "execution_count": 54,
   "metadata": {
    "ExecuteTime": {
     "end_time": "2020-06-17T08:42:36.242020Z",
     "start_time": "2020-06-17T08:42:17.951855Z"
    }
   },
   "outputs": [],
   "source": [
    "#Calculate fairness for Country\n",
    "\n",
    "df = df.loc[~df[\"country\"].isnull()]\n",
    "\n",
    "for country in df.country.unique().tolist():\n",
    "\n",
    "    totalCountry = df.loc[df[\"country\"]==country].groupby(\"country\")[\"sumVideoViews\"].sum().values[0]\n",
    "    for cdf in dfs:\n",
    "        cTotal = (cdf[0].iloc[3,1:].values==country).sum()\n",
    "        outputDF = outputDF.append(pd.DataFrame([[cdf[2],cdf[1],\"Country\",country,np.round(totalCountry/totalViews*100,3),df[\"country\"].nunique(),cTotal,np.round(cTotal/cdf[1]*100,3),cdf[0].iloc[3,1:].nunique(),np.round(cTotal/cdf[1]-totalCountry/totalViews,3)]], columns=outputDF.columns))\n"
   ]
  },
  {
   "cell_type": "code",
   "execution_count": 55,
   "metadata": {
    "ExecuteTime": {
     "end_time": "2020-06-17T08:42:36.248023Z",
     "start_time": "2020-06-17T08:42:36.244018Z"
    }
   },
   "outputs": [],
   "source": [
    "outputDF['Fairness'] = np.abs(outputDF['Statistical Parity'])"
   ]
  },
  {
   "cell_type": "code",
   "execution_count": 56,
   "metadata": {
    "ExecuteTime": {
     "end_time": "2020-06-17T08:42:36.278064Z",
     "start_time": "2020-06-17T08:42:36.250018Z"
    }
   },
   "outputs": [],
   "source": [
    "outputDF.to_csv(\"stat_parity.csv\",index=False)"
   ]
  },
  {
   "cell_type": "code",
   "execution_count": 57,
   "metadata": {
    "ExecuteTime": {
     "end_time": "2020-06-17T08:42:36.302054Z",
     "start_time": "2020-06-17T08:42:36.280018Z"
    },
    "scrolled": true
   },
   "outputs": [
    {
     "data": {
      "text/html": [
       "<div>\n",
       "<style scoped>\n",
       "    .dataframe tbody tr th:only-of-type {\n",
       "        vertical-align: middle;\n",
       "    }\n",
       "\n",
       "    .dataframe tbody tr th {\n",
       "        vertical-align: top;\n",
       "    }\n",
       "\n",
       "    .dataframe thead th {\n",
       "        text-align: right;\n",
       "    }\n",
       "</style>\n",
       "<table border=\"1\" class=\"dataframe\">\n",
       "  <thead>\n",
       "    <tr style=\"text-align: right;\">\n",
       "      <th></th>\n",
       "      <th>Dimensionality Reduction Algorithm</th>\n",
       "      <th>GroupName</th>\n",
       "      <th>Number of Personas</th>\n",
       "      <th>Fairness</th>\n",
       "    </tr>\n",
       "  </thead>\n",
       "  <tbody>\n",
       "    <tr>\n",
       "      <th>0</th>\n",
       "      <td>Clustering</td>\n",
       "      <td>Country</td>\n",
       "      <td>5</td>\n",
       "      <td>0.010016</td>\n",
       "    </tr>\n",
       "    <tr>\n",
       "      <th>1</th>\n",
       "      <td>Clustering</td>\n",
       "      <td>Country</td>\n",
       "      <td>10</td>\n",
       "      <td>0.009357</td>\n",
       "    </tr>\n",
       "    <tr>\n",
       "      <th>2</th>\n",
       "      <td>Clustering</td>\n",
       "      <td>Country</td>\n",
       "      <td>15</td>\n",
       "      <td>0.009508</td>\n",
       "    </tr>\n",
       "    <tr>\n",
       "      <th>3</th>\n",
       "      <td>LDA</td>\n",
       "      <td>Country</td>\n",
       "      <td>5</td>\n",
       "      <td>0.009832</td>\n",
       "    </tr>\n",
       "    <tr>\n",
       "      <th>4</th>\n",
       "      <td>LDA</td>\n",
       "      <td>Country</td>\n",
       "      <td>10</td>\n",
       "      <td>0.010049</td>\n",
       "    </tr>\n",
       "    <tr>\n",
       "      <th>5</th>\n",
       "      <td>LDA</td>\n",
       "      <td>Country</td>\n",
       "      <td>15</td>\n",
       "      <td>0.009908</td>\n",
       "    </tr>\n",
       "    <tr>\n",
       "      <th>6</th>\n",
       "      <td>NMF</td>\n",
       "      <td>Country</td>\n",
       "      <td>5</td>\n",
       "      <td>0.009627</td>\n",
       "    </tr>\n",
       "    <tr>\n",
       "      <th>7</th>\n",
       "      <td>NMF</td>\n",
       "      <td>Country</td>\n",
       "      <td>10</td>\n",
       "      <td>0.010135</td>\n",
       "    </tr>\n",
       "    <tr>\n",
       "      <th>8</th>\n",
       "      <td>NMF</td>\n",
       "      <td>Country</td>\n",
       "      <td>15</td>\n",
       "      <td>0.009303</td>\n",
       "    </tr>\n",
       "    <tr>\n",
       "      <th>9</th>\n",
       "      <td>PCA</td>\n",
       "      <td>Country</td>\n",
       "      <td>5</td>\n",
       "      <td>0.009886</td>\n",
       "    </tr>\n",
       "    <tr>\n",
       "      <th>10</th>\n",
       "      <td>PCA</td>\n",
       "      <td>Country</td>\n",
       "      <td>10</td>\n",
       "      <td>0.009573</td>\n",
       "    </tr>\n",
       "    <tr>\n",
       "      <th>11</th>\n",
       "      <td>PCA</td>\n",
       "      <td>Country</td>\n",
       "      <td>15</td>\n",
       "      <td>0.009119</td>\n",
       "    </tr>\n",
       "    <tr>\n",
       "      <th>12</th>\n",
       "      <td>SE</td>\n",
       "      <td>Country</td>\n",
       "      <td>5</td>\n",
       "      <td>0.009962</td>\n",
       "    </tr>\n",
       "    <tr>\n",
       "      <th>13</th>\n",
       "      <td>SE</td>\n",
       "      <td>Country</td>\n",
       "      <td>10</td>\n",
       "      <td>0.009670</td>\n",
       "    </tr>\n",
       "    <tr>\n",
       "      <th>14</th>\n",
       "      <td>SE</td>\n",
       "      <td>Country</td>\n",
       "      <td>15</td>\n",
       "      <td>0.009362</td>\n",
       "    </tr>\n",
       "    <tr>\n",
       "      <th>15</th>\n",
       "      <td>UMAP</td>\n",
       "      <td>Country</td>\n",
       "      <td>5</td>\n",
       "      <td>0.010643</td>\n",
       "    </tr>\n",
       "    <tr>\n",
       "      <th>16</th>\n",
       "      <td>UMAP</td>\n",
       "      <td>Country</td>\n",
       "      <td>10</td>\n",
       "      <td>0.008935</td>\n",
       "    </tr>\n",
       "    <tr>\n",
       "      <th>17</th>\n",
       "      <td>UMAP</td>\n",
       "      <td>Country</td>\n",
       "      <td>15</td>\n",
       "      <td>0.010292</td>\n",
       "    </tr>\n",
       "  </tbody>\n",
       "</table>\n",
       "</div>"
      ],
      "text/plain": [
       "   Dimensionality Reduction Algorithm GroupName  Number of Personas  Fairness\n",
       "0                          Clustering   Country                   5  0.010016\n",
       "1                          Clustering   Country                  10  0.009357\n",
       "2                          Clustering   Country                  15  0.009508\n",
       "3                                 LDA   Country                   5  0.009832\n",
       "4                                 LDA   Country                  10  0.010049\n",
       "5                                 LDA   Country                  15  0.009908\n",
       "6                                 NMF   Country                   5  0.009627\n",
       "7                                 NMF   Country                  10  0.010135\n",
       "8                                 NMF   Country                  15  0.009303\n",
       "9                                 PCA   Country                   5  0.009886\n",
       "10                                PCA   Country                  10  0.009573\n",
       "11                                PCA   Country                  15  0.009119\n",
       "12                                 SE   Country                   5  0.009962\n",
       "13                                 SE   Country                  10  0.009670\n",
       "14                                 SE   Country                  15  0.009362\n",
       "15                               UMAP   Country                   5  0.010643\n",
       "16                               UMAP   Country                  10  0.008935\n",
       "17                               UMAP   Country                  15  0.010292"
      ]
     },
     "execution_count": 57,
     "metadata": {},
     "output_type": "execute_result"
    }
   ],
   "source": [
    "#Save country fairness data\n",
    "countryfairness = outputDF.loc[outputDF[\"GroupName\"]==\"Country\"].groupby(['Dimensionality Reduction Algorithm','GroupName','Number of Personas'],as_index=False)['Fairness'].mean()\n",
    "\n",
    "countryfairness.to_csv('Country_Stat_Parity_Mean.csv',header=True)\n",
    "\n",
    "countryfairness"
   ]
  },
  {
   "cell_type": "code",
   "execution_count": 58,
   "metadata": {
    "ExecuteTime": {
     "end_time": "2020-06-17T08:42:36.323019Z",
     "start_time": "2020-06-17T08:42:36.303018Z"
    },
    "scrolled": true
   },
   "outputs": [
    {
     "data": {
      "text/html": [
       "<div>\n",
       "<style scoped>\n",
       "    .dataframe tbody tr th:only-of-type {\n",
       "        vertical-align: middle;\n",
       "    }\n",
       "\n",
       "    .dataframe tbody tr th {\n",
       "        vertical-align: top;\n",
       "    }\n",
       "\n",
       "    .dataframe thead th {\n",
       "        text-align: right;\n",
       "    }\n",
       "</style>\n",
       "<table border=\"1\" class=\"dataframe\">\n",
       "  <thead>\n",
       "    <tr style=\"text-align: right;\">\n",
       "      <th></th>\n",
       "      <th>Dimensionality Reduction Algorithm</th>\n",
       "      <th>GroupName</th>\n",
       "      <th>Number of Personas</th>\n",
       "      <th>Fairness</th>\n",
       "    </tr>\n",
       "  </thead>\n",
       "  <tbody>\n",
       "    <tr>\n",
       "      <th>0</th>\n",
       "      <td>Clustering</td>\n",
       "      <td>Age</td>\n",
       "      <td>5</td>\n",
       "      <td>0.180000</td>\n",
       "    </tr>\n",
       "    <tr>\n",
       "      <th>1</th>\n",
       "      <td>Clustering</td>\n",
       "      <td>Age</td>\n",
       "      <td>10</td>\n",
       "      <td>0.122857</td>\n",
       "    </tr>\n",
       "    <tr>\n",
       "      <th>2</th>\n",
       "      <td>Clustering</td>\n",
       "      <td>Age</td>\n",
       "      <td>15</td>\n",
       "      <td>0.089429</td>\n",
       "    </tr>\n",
       "    <tr>\n",
       "      <th>3</th>\n",
       "      <td>LDA</td>\n",
       "      <td>Age</td>\n",
       "      <td>5</td>\n",
       "      <td>0.186000</td>\n",
       "    </tr>\n",
       "    <tr>\n",
       "      <th>4</th>\n",
       "      <td>LDA</td>\n",
       "      <td>Age</td>\n",
       "      <td>10</td>\n",
       "      <td>0.152000</td>\n",
       "    </tr>\n",
       "    <tr>\n",
       "      <th>5</th>\n",
       "      <td>LDA</td>\n",
       "      <td>Age</td>\n",
       "      <td>15</td>\n",
       "      <td>0.082143</td>\n",
       "    </tr>\n",
       "    <tr>\n",
       "      <th>6</th>\n",
       "      <td>NMF</td>\n",
       "      <td>Age</td>\n",
       "      <td>5</td>\n",
       "      <td>0.189714</td>\n",
       "    </tr>\n",
       "    <tr>\n",
       "      <th>7</th>\n",
       "      <td>NMF</td>\n",
       "      <td>Age</td>\n",
       "      <td>10</td>\n",
       "      <td>0.139714</td>\n",
       "    </tr>\n",
       "    <tr>\n",
       "      <th>8</th>\n",
       "      <td>NMF</td>\n",
       "      <td>Age</td>\n",
       "      <td>15</td>\n",
       "      <td>0.057143</td>\n",
       "    </tr>\n",
       "    <tr>\n",
       "      <th>9</th>\n",
       "      <td>PCA</td>\n",
       "      <td>Age</td>\n",
       "      <td>5</td>\n",
       "      <td>0.123429</td>\n",
       "    </tr>\n",
       "    <tr>\n",
       "      <th>10</th>\n",
       "      <td>PCA</td>\n",
       "      <td>Age</td>\n",
       "      <td>10</td>\n",
       "      <td>0.143143</td>\n",
       "    </tr>\n",
       "    <tr>\n",
       "      <th>11</th>\n",
       "      <td>PCA</td>\n",
       "      <td>Age</td>\n",
       "      <td>15</td>\n",
       "      <td>0.160000</td>\n",
       "    </tr>\n",
       "    <tr>\n",
       "      <th>12</th>\n",
       "      <td>SE</td>\n",
       "      <td>Age</td>\n",
       "      <td>5</td>\n",
       "      <td>0.074571</td>\n",
       "    </tr>\n",
       "    <tr>\n",
       "      <th>13</th>\n",
       "      <td>SE</td>\n",
       "      <td>Age</td>\n",
       "      <td>10</td>\n",
       "      <td>0.094286</td>\n",
       "    </tr>\n",
       "    <tr>\n",
       "      <th>14</th>\n",
       "      <td>SE</td>\n",
       "      <td>Age</td>\n",
       "      <td>15</td>\n",
       "      <td>0.051286</td>\n",
       "    </tr>\n",
       "    <tr>\n",
       "      <th>15</th>\n",
       "      <td>UMAP</td>\n",
       "      <td>Age</td>\n",
       "      <td>5</td>\n",
       "      <td>0.162286</td>\n",
       "    </tr>\n",
       "    <tr>\n",
       "      <th>16</th>\n",
       "      <td>UMAP</td>\n",
       "      <td>Age</td>\n",
       "      <td>10</td>\n",
       "      <td>0.143143</td>\n",
       "    </tr>\n",
       "    <tr>\n",
       "      <th>17</th>\n",
       "      <td>UMAP</td>\n",
       "      <td>Age</td>\n",
       "      <td>15</td>\n",
       "      <td>0.089571</td>\n",
       "    </tr>\n",
       "  </tbody>\n",
       "</table>\n",
       "</div>"
      ],
      "text/plain": [
       "   Dimensionality Reduction Algorithm GroupName  Number of Personas  Fairness\n",
       "0                          Clustering       Age                   5  0.180000\n",
       "1                          Clustering       Age                  10  0.122857\n",
       "2                          Clustering       Age                  15  0.089429\n",
       "3                                 LDA       Age                   5  0.186000\n",
       "4                                 LDA       Age                  10  0.152000\n",
       "5                                 LDA       Age                  15  0.082143\n",
       "6                                 NMF       Age                   5  0.189714\n",
       "7                                 NMF       Age                  10  0.139714\n",
       "8                                 NMF       Age                  15  0.057143\n",
       "9                                 PCA       Age                   5  0.123429\n",
       "10                                PCA       Age                  10  0.143143\n",
       "11                                PCA       Age                  15  0.160000\n",
       "12                                 SE       Age                   5  0.074571\n",
       "13                                 SE       Age                  10  0.094286\n",
       "14                                 SE       Age                  15  0.051286\n",
       "15                               UMAP       Age                   5  0.162286\n",
       "16                               UMAP       Age                  10  0.143143\n",
       "17                               UMAP       Age                  15  0.089571"
      ]
     },
     "execution_count": 58,
     "metadata": {},
     "output_type": "execute_result"
    }
   ],
   "source": [
    "#Save Age fairness data\n",
    "agefairness = outputDF.loc[outputDF[\"GroupName\"]==\"Age\"].groupby(['Dimensionality Reduction Algorithm','GroupName','Number of Personas'],as_index=False)['Fairness'].mean()\n",
    "\n",
    "agefairness.to_csv('Age_Stat_Parity_Mean.csv',header=True)\n",
    "\n",
    "agefairness"
   ]
  },
  {
   "cell_type": "code",
   "execution_count": 59,
   "metadata": {
    "ExecuteTime": {
     "end_time": "2020-06-17T08:42:36.344020Z",
     "start_time": "2020-06-17T08:42:36.325019Z"
    },
    "scrolled": true
   },
   "outputs": [
    {
     "data": {
      "text/html": [
       "<div>\n",
       "<style scoped>\n",
       "    .dataframe tbody tr th:only-of-type {\n",
       "        vertical-align: middle;\n",
       "    }\n",
       "\n",
       "    .dataframe tbody tr th {\n",
       "        vertical-align: top;\n",
       "    }\n",
       "\n",
       "    .dataframe thead th {\n",
       "        text-align: right;\n",
       "    }\n",
       "</style>\n",
       "<table border=\"1\" class=\"dataframe\">\n",
       "  <thead>\n",
       "    <tr style=\"text-align: right;\">\n",
       "      <th></th>\n",
       "      <th>Dimensionality Reduction Algorithm</th>\n",
       "      <th>GroupName</th>\n",
       "      <th>Number of Personas</th>\n",
       "      <th>Fairness</th>\n",
       "    </tr>\n",
       "  </thead>\n",
       "  <tbody>\n",
       "    <tr>\n",
       "      <th>0</th>\n",
       "      <td>Clustering</td>\n",
       "      <td>Gender</td>\n",
       "      <td>5</td>\n",
       "      <td>0.203</td>\n",
       "    </tr>\n",
       "    <tr>\n",
       "      <th>1</th>\n",
       "      <td>Clustering</td>\n",
       "      <td>Gender</td>\n",
       "      <td>10</td>\n",
       "      <td>0.003</td>\n",
       "    </tr>\n",
       "    <tr>\n",
       "      <th>2</th>\n",
       "      <td>Clustering</td>\n",
       "      <td>Gender</td>\n",
       "      <td>15</td>\n",
       "      <td>0.270</td>\n",
       "    </tr>\n",
       "    <tr>\n",
       "      <th>3</th>\n",
       "      <td>LDA</td>\n",
       "      <td>Gender</td>\n",
       "      <td>5</td>\n",
       "      <td>0.197</td>\n",
       "    </tr>\n",
       "    <tr>\n",
       "      <th>4</th>\n",
       "      <td>LDA</td>\n",
       "      <td>Gender</td>\n",
       "      <td>10</td>\n",
       "      <td>0.097</td>\n",
       "    </tr>\n",
       "    <tr>\n",
       "      <th>5</th>\n",
       "      <td>LDA</td>\n",
       "      <td>Gender</td>\n",
       "      <td>15</td>\n",
       "      <td>0.337</td>\n",
       "    </tr>\n",
       "    <tr>\n",
       "      <th>6</th>\n",
       "      <td>NMF</td>\n",
       "      <td>Gender</td>\n",
       "      <td>5</td>\n",
       "      <td>0.203</td>\n",
       "    </tr>\n",
       "    <tr>\n",
       "      <th>7</th>\n",
       "      <td>NMF</td>\n",
       "      <td>Gender</td>\n",
       "      <td>10</td>\n",
       "      <td>0.003</td>\n",
       "    </tr>\n",
       "    <tr>\n",
       "      <th>8</th>\n",
       "      <td>NMF</td>\n",
       "      <td>Gender</td>\n",
       "      <td>15</td>\n",
       "      <td>0.337</td>\n",
       "    </tr>\n",
       "    <tr>\n",
       "      <th>9</th>\n",
       "      <td>PCA</td>\n",
       "      <td>Gender</td>\n",
       "      <td>5</td>\n",
       "      <td>0.003</td>\n",
       "    </tr>\n",
       "    <tr>\n",
       "      <th>10</th>\n",
       "      <td>PCA</td>\n",
       "      <td>Gender</td>\n",
       "      <td>10</td>\n",
       "      <td>0.203</td>\n",
       "    </tr>\n",
       "    <tr>\n",
       "      <th>11</th>\n",
       "      <td>PCA</td>\n",
       "      <td>Gender</td>\n",
       "      <td>15</td>\n",
       "      <td>0.403</td>\n",
       "    </tr>\n",
       "    <tr>\n",
       "      <th>12</th>\n",
       "      <td>SE</td>\n",
       "      <td>Gender</td>\n",
       "      <td>5</td>\n",
       "      <td>0.197</td>\n",
       "    </tr>\n",
       "    <tr>\n",
       "      <th>13</th>\n",
       "      <td>SE</td>\n",
       "      <td>Gender</td>\n",
       "      <td>10</td>\n",
       "      <td>0.097</td>\n",
       "    </tr>\n",
       "    <tr>\n",
       "      <th>14</th>\n",
       "      <td>SE</td>\n",
       "      <td>Gender</td>\n",
       "      <td>15</td>\n",
       "      <td>0.063</td>\n",
       "    </tr>\n",
       "    <tr>\n",
       "      <th>15</th>\n",
       "      <td>UMAP</td>\n",
       "      <td>Gender</td>\n",
       "      <td>5</td>\n",
       "      <td>0.003</td>\n",
       "    </tr>\n",
       "    <tr>\n",
       "      <th>16</th>\n",
       "      <td>UMAP</td>\n",
       "      <td>Gender</td>\n",
       "      <td>10</td>\n",
       "      <td>0.303</td>\n",
       "    </tr>\n",
       "    <tr>\n",
       "      <th>17</th>\n",
       "      <td>UMAP</td>\n",
       "      <td>Gender</td>\n",
       "      <td>15</td>\n",
       "      <td>0.070</td>\n",
       "    </tr>\n",
       "  </tbody>\n",
       "</table>\n",
       "</div>"
      ],
      "text/plain": [
       "   Dimensionality Reduction Algorithm GroupName  Number of Personas  Fairness\n",
       "0                          Clustering    Gender                   5     0.203\n",
       "1                          Clustering    Gender                  10     0.003\n",
       "2                          Clustering    Gender                  15     0.270\n",
       "3                                 LDA    Gender                   5     0.197\n",
       "4                                 LDA    Gender                  10     0.097\n",
       "5                                 LDA    Gender                  15     0.337\n",
       "6                                 NMF    Gender                   5     0.203\n",
       "7                                 NMF    Gender                  10     0.003\n",
       "8                                 NMF    Gender                  15     0.337\n",
       "9                                 PCA    Gender                   5     0.003\n",
       "10                                PCA    Gender                  10     0.203\n",
       "11                                PCA    Gender                  15     0.403\n",
       "12                                 SE    Gender                   5     0.197\n",
       "13                                 SE    Gender                  10     0.097\n",
       "14                                 SE    Gender                  15     0.063\n",
       "15                               UMAP    Gender                   5     0.003\n",
       "16                               UMAP    Gender                  10     0.303\n",
       "17                               UMAP    Gender                  15     0.070"
      ]
     },
     "execution_count": 59,
     "metadata": {},
     "output_type": "execute_result"
    }
   ],
   "source": [
    "#Save Gender fairness data\n",
    "genderfairness = outputDF.loc[outputDF[\"GroupName\"]==\"Gender\"].groupby(['Dimensionality Reduction Algorithm','GroupName','Number of Personas'],as_index=False)['Fairness'].mean()\n",
    "\n",
    "genderfairness.to_csv('Gender_Stat_Parity_Mean.csv',header=True)\n",
    "\n",
    "genderfairness"
   ]
  },
  {
   "cell_type": "markdown",
   "metadata": {},
   "source": [
    "# <a id=\"consistency\">Consistency</a>"
   ]
  },
  {
   "cell_type": "code",
   "execution_count": 60,
   "metadata": {
    "ExecuteTime": {
     "end_time": "2020-06-17T08:42:36.352019Z",
     "start_time": "2020-06-17T08:42:36.346018Z"
    }
   },
   "outputs": [],
   "source": [
    "consistencyDF = pd.DataFrame(columns=[\"Algorithm\",\"Consistency Score\"])"
   ]
  },
  {
   "cell_type": "code",
   "execution_count": 61,
   "metadata": {
    "ExecuteTime": {
     "end_time": "2020-06-17T08:42:36.361019Z",
     "start_time": "2020-06-17T08:42:36.355019Z"
    }
   },
   "outputs": [],
   "source": [
    "def randomString(stringLength): #Generate a random string\n",
    "    letters = string.ascii_lowercase\n",
    "    return ''.join(random.choice(letters) for i in range(stringLength))\n",
    "\n",
    "def common(lst1, lst2): \n",
    "    #This function finds the count of common values between two lists.\n",
    "    #But we also do not want to use a single value from first list to match two values in the second list.\n",
    "    #Example:\n",
    "    #List1 = [1,1,2,3,4]\n",
    "    #List2 = [1,1,1,2,2,3,4]\n",
    "    #Score = 5. Because Two ones in list1 match two times. One two in list1 match one time. 3 and 4 match 1 time. So total 5 matches\n",
    "    counter = 0\n",
    "    lst11,lst22= lst1.copy(),lst2.copy() #Copy them, so we don't overwrite the original \n",
    "    for i in range(len(lst11)):\n",
    "        for j in range(len(lst22)):\n",
    "            if lst11[i]==lst22[j]:\n",
    "                counter +=1\n",
    "                lst11[i] = randomString(10000) #We don't want to count it again. So we just assign a random value to it.\n",
    "                lst22[j] = randomString(10000)\n",
    "                break\n",
    "    return counter"
   ]
  },
  {
   "cell_type": "code",
   "execution_count": 62,
   "metadata": {
    "ExecuteTime": {
     "end_time": "2020-06-17T08:42:36.741049Z",
     "start_time": "2020-06-17T08:42:36.363018Z"
    }
   },
   "outputs": [],
   "source": [
    "for dralgo in dralgos: #Need to process files of all algorithms\n",
    "    uniqueValues = []\n",
    "    for i in range(3): #Need to read the file 3 times with all 3 sheets. (5,10,15)\n",
    "        temp = pd.read_excel(\"personas/\"+dralgo+\".xlsx\",sheet_name=2-i)\n",
    "        uniqueValues_tmp = []\n",
    "        for i in range(temp.shape[1]-1):\n",
    "            #Join Age, Gender and country. \n",
    "            value = str(temp.iloc[1,1+i:2+i].values[0])+temp.iloc[2,1+i:2+i].values[0]+temp.iloc[3,1+i:2+i].values[0]\n",
    "            uniqueValues_tmp.append(value)\n",
    "        uniqueValues.append(uniqueValues_tmp)\n",
    "      \n",
    "\n",
    "    # Find common between 5 persona set and 10\n",
    "    score = common(uniqueValues[0], uniqueValues[1])/5\n",
    "    # Find common between 5 persona set and 15\n",
    "    score += common(uniqueValues[0], uniqueValues[2])/5\n",
    "    # Find common between 10 persona set and 15\n",
    "    score += common(uniqueValues[1], uniqueValues[2])/10\n",
    "    score = score/3\n",
    "    \n",
    "    consistencyDF = consistencyDF.append(pd.DataFrame([[dralgo,score]], columns=consistencyDF.columns))"
   ]
  },
  {
   "cell_type": "code",
   "execution_count": 63,
   "metadata": {
    "ExecuteTime": {
     "end_time": "2020-06-17T08:42:36.751050Z",
     "start_time": "2020-06-17T08:42:36.743050Z"
    }
   },
   "outputs": [
    {
     "data": {
      "text/html": [
       "<div>\n",
       "<style scoped>\n",
       "    .dataframe tbody tr th:only-of-type {\n",
       "        vertical-align: middle;\n",
       "    }\n",
       "\n",
       "    .dataframe tbody tr th {\n",
       "        vertical-align: top;\n",
       "    }\n",
       "\n",
       "    .dataframe thead th {\n",
       "        text-align: right;\n",
       "    }\n",
       "</style>\n",
       "<table border=\"1\" class=\"dataframe\">\n",
       "  <thead>\n",
       "    <tr style=\"text-align: right;\">\n",
       "      <th></th>\n",
       "      <th>Algorithm</th>\n",
       "      <th>Consistency Score</th>\n",
       "    </tr>\n",
       "  </thead>\n",
       "  <tbody>\n",
       "    <tr>\n",
       "      <th>0</th>\n",
       "      <td>Clustering</td>\n",
       "      <td>0.000000</td>\n",
       "    </tr>\n",
       "    <tr>\n",
       "      <th>0</th>\n",
       "      <td>PCA</td>\n",
       "      <td>0.233333</td>\n",
       "    </tr>\n",
       "    <tr>\n",
       "      <th>0</th>\n",
       "      <td>NMF</td>\n",
       "      <td>0.066667</td>\n",
       "    </tr>\n",
       "    <tr>\n",
       "      <th>0</th>\n",
       "      <td>LDA</td>\n",
       "      <td>0.000000</td>\n",
       "    </tr>\n",
       "    <tr>\n",
       "      <th>0</th>\n",
       "      <td>SE</td>\n",
       "      <td>0.000000</td>\n",
       "    </tr>\n",
       "    <tr>\n",
       "      <th>0</th>\n",
       "      <td>UMAP</td>\n",
       "      <td>0.000000</td>\n",
       "    </tr>\n",
       "  </tbody>\n",
       "</table>\n",
       "</div>"
      ],
      "text/plain": [
       "    Algorithm  Consistency Score\n",
       "0  Clustering           0.000000\n",
       "0         PCA           0.233333\n",
       "0         NMF           0.066667\n",
       "0         LDA           0.000000\n",
       "0          SE           0.000000\n",
       "0        UMAP           0.000000"
      ]
     },
     "execution_count": 63,
     "metadata": {},
     "output_type": "execute_result"
    }
   ],
   "source": [
    "consistencyDF"
   ]
  },
  {
   "cell_type": "code",
   "execution_count": 64,
   "metadata": {
    "ExecuteTime": {
     "end_time": "2020-06-17T08:42:36.761049Z",
     "start_time": "2020-06-17T08:42:36.753049Z"
    }
   },
   "outputs": [],
   "source": [
    "consistencyDF.to_csv(\"consistencyDF.csv\",index=False)"
   ]
  },
  {
   "cell_type": "markdown",
   "metadata": {},
   "source": [
    "# DFC in one table"
   ]
  },
  {
   "cell_type": "code",
   "execution_count": 65,
   "metadata": {
    "ExecuteTime": {
     "end_time": "2020-06-17T08:42:36.769049Z",
     "start_time": "2020-06-17T08:42:36.764051Z"
    }
   },
   "outputs": [],
   "source": [
    "totalFairness = pd.concat([agefairness,countryfairness,genderfairness],axis=0)"
   ]
  },
  {
   "cell_type": "code",
   "execution_count": 66,
   "metadata": {
    "ExecuteTime": {
     "end_time": "2020-06-17T08:42:36.782049Z",
     "start_time": "2020-06-17T08:42:36.771051Z"
    },
    "scrolled": true
   },
   "outputs": [],
   "source": [
    "totalFairness = totalFairness.groupby([\"Dimensionality Reduction Algorithm\",\"Number of Personas\"],as_index=False)[\"Fairness\"].mean()"
   ]
  },
  {
   "cell_type": "code",
   "execution_count": 67,
   "metadata": {
    "ExecuteTime": {
     "end_time": "2020-06-17T08:42:36.788051Z",
     "start_time": "2020-06-17T08:42:36.785050Z"
    }
   },
   "outputs": [],
   "source": [
    "totalFairness[\"Consistency\"] = 0"
   ]
  },
  {
   "cell_type": "code",
   "execution_count": 68,
   "metadata": {
    "ExecuteTime": {
     "end_time": "2020-06-17T08:42:36.814051Z",
     "start_time": "2020-06-17T08:42:36.790050Z"
    }
   },
   "outputs": [],
   "source": [
    "for i in range(totalFairness.shape[0]):\n",
    "    totalFairness[\"Consistency\"].iloc[i] = consistencyDF.loc[consistencyDF[\"Algorithm\"]==totalFairness[\"Dimensionality Reduction Algorithm\"].iloc[i]][\"Consistency Score\"].iloc[0]"
   ]
  },
  {
   "cell_type": "code",
   "execution_count": 69,
   "metadata": {
    "ExecuteTime": {
     "end_time": "2020-06-17T08:42:36.822049Z",
     "start_time": "2020-06-17T08:42:36.816050Z"
    },
    "scrolled": true
   },
   "outputs": [],
   "source": [
    "totalFairness[\"Diversity\"] = 0"
   ]
  },
  {
   "cell_type": "code",
   "execution_count": 70,
   "metadata": {
    "ExecuteTime": {
     "end_time": "2020-06-17T08:42:36.836050Z",
     "start_time": "2020-06-17T08:42:36.824050Z"
    },
    "scrolled": true
   },
   "outputs": [
    {
     "data": {
      "text/html": [
       "<div>\n",
       "<style scoped>\n",
       "    .dataframe tbody tr th:only-of-type {\n",
       "        vertical-align: middle;\n",
       "    }\n",
       "\n",
       "    .dataframe tbody tr th {\n",
       "        vertical-align: top;\n",
       "    }\n",
       "\n",
       "    .dataframe thead th {\n",
       "        text-align: right;\n",
       "    }\n",
       "</style>\n",
       "<table border=\"1\" class=\"dataframe\">\n",
       "  <thead>\n",
       "    <tr style=\"text-align: right;\">\n",
       "      <th></th>\n",
       "      <th>Dimensionality Reduction Algorithm</th>\n",
       "      <th>Number of Personas</th>\n",
       "      <th>Fairness</th>\n",
       "      <th>Consistency</th>\n",
       "      <th>Diversity</th>\n",
       "    </tr>\n",
       "  </thead>\n",
       "  <tbody>\n",
       "    <tr>\n",
       "      <th>0</th>\n",
       "      <td>Clustering</td>\n",
       "      <td>5</td>\n",
       "      <td>0.131005</td>\n",
       "      <td>0.000000</td>\n",
       "      <td>0</td>\n",
       "    </tr>\n",
       "    <tr>\n",
       "      <th>1</th>\n",
       "      <td>Clustering</td>\n",
       "      <td>10</td>\n",
       "      <td>0.045071</td>\n",
       "      <td>0.000000</td>\n",
       "      <td>0</td>\n",
       "    </tr>\n",
       "    <tr>\n",
       "      <th>2</th>\n",
       "      <td>Clustering</td>\n",
       "      <td>15</td>\n",
       "      <td>0.122979</td>\n",
       "      <td>0.000000</td>\n",
       "      <td>0</td>\n",
       "    </tr>\n",
       "    <tr>\n",
       "      <th>3</th>\n",
       "      <td>LDA</td>\n",
       "      <td>5</td>\n",
       "      <td>0.130944</td>\n",
       "      <td>0.000000</td>\n",
       "      <td>0</td>\n",
       "    </tr>\n",
       "    <tr>\n",
       "      <th>4</th>\n",
       "      <td>LDA</td>\n",
       "      <td>10</td>\n",
       "      <td>0.086350</td>\n",
       "      <td>0.000000</td>\n",
       "      <td>0</td>\n",
       "    </tr>\n",
       "    <tr>\n",
       "      <th>5</th>\n",
       "      <td>LDA</td>\n",
       "      <td>15</td>\n",
       "      <td>0.143017</td>\n",
       "      <td>0.000000</td>\n",
       "      <td>0</td>\n",
       "    </tr>\n",
       "    <tr>\n",
       "      <th>6</th>\n",
       "      <td>NMF</td>\n",
       "      <td>5</td>\n",
       "      <td>0.134114</td>\n",
       "      <td>0.066667</td>\n",
       "      <td>0</td>\n",
       "    </tr>\n",
       "    <tr>\n",
       "      <th>7</th>\n",
       "      <td>NMF</td>\n",
       "      <td>10</td>\n",
       "      <td>0.050950</td>\n",
       "      <td>0.066667</td>\n",
       "      <td>0</td>\n",
       "    </tr>\n",
       "    <tr>\n",
       "      <th>8</th>\n",
       "      <td>NMF</td>\n",
       "      <td>15</td>\n",
       "      <td>0.134482</td>\n",
       "      <td>0.066667</td>\n",
       "      <td>0</td>\n",
       "    </tr>\n",
       "    <tr>\n",
       "      <th>9</th>\n",
       "      <td>PCA</td>\n",
       "      <td>5</td>\n",
       "      <td>0.045438</td>\n",
       "      <td>0.233333</td>\n",
       "      <td>0</td>\n",
       "    </tr>\n",
       "    <tr>\n",
       "      <th>10</th>\n",
       "      <td>PCA</td>\n",
       "      <td>10</td>\n",
       "      <td>0.118572</td>\n",
       "      <td>0.233333</td>\n",
       "      <td>0</td>\n",
       "    </tr>\n",
       "    <tr>\n",
       "      <th>11</th>\n",
       "      <td>PCA</td>\n",
       "      <td>15</td>\n",
       "      <td>0.190706</td>\n",
       "      <td>0.233333</td>\n",
       "      <td>0</td>\n",
       "    </tr>\n",
       "    <tr>\n",
       "      <th>12</th>\n",
       "      <td>SE</td>\n",
       "      <td>5</td>\n",
       "      <td>0.093845</td>\n",
       "      <td>0.000000</td>\n",
       "      <td>0</td>\n",
       "    </tr>\n",
       "    <tr>\n",
       "      <th>13</th>\n",
       "      <td>SE</td>\n",
       "      <td>10</td>\n",
       "      <td>0.066985</td>\n",
       "      <td>0.000000</td>\n",
       "      <td>0</td>\n",
       "    </tr>\n",
       "    <tr>\n",
       "      <th>14</th>\n",
       "      <td>SE</td>\n",
       "      <td>15</td>\n",
       "      <td>0.041216</td>\n",
       "      <td>0.000000</td>\n",
       "      <td>0</td>\n",
       "    </tr>\n",
       "    <tr>\n",
       "      <th>15</th>\n",
       "      <td>UMAP</td>\n",
       "      <td>5</td>\n",
       "      <td>0.058643</td>\n",
       "      <td>0.000000</td>\n",
       "      <td>0</td>\n",
       "    </tr>\n",
       "    <tr>\n",
       "      <th>16</th>\n",
       "      <td>UMAP</td>\n",
       "      <td>10</td>\n",
       "      <td>0.151693</td>\n",
       "      <td>0.000000</td>\n",
       "      <td>0</td>\n",
       "    </tr>\n",
       "    <tr>\n",
       "      <th>17</th>\n",
       "      <td>UMAP</td>\n",
       "      <td>15</td>\n",
       "      <td>0.056621</td>\n",
       "      <td>0.000000</td>\n",
       "      <td>0</td>\n",
       "    </tr>\n",
       "  </tbody>\n",
       "</table>\n",
       "</div>"
      ],
      "text/plain": [
       "   Dimensionality Reduction Algorithm  Number of Personas  Fairness  \\\n",
       "0                          Clustering                   5  0.131005   \n",
       "1                          Clustering                  10  0.045071   \n",
       "2                          Clustering                  15  0.122979   \n",
       "3                                 LDA                   5  0.130944   \n",
       "4                                 LDA                  10  0.086350   \n",
       "5                                 LDA                  15  0.143017   \n",
       "6                                 NMF                   5  0.134114   \n",
       "7                                 NMF                  10  0.050950   \n",
       "8                                 NMF                  15  0.134482   \n",
       "9                                 PCA                   5  0.045438   \n",
       "10                                PCA                  10  0.118572   \n",
       "11                                PCA                  15  0.190706   \n",
       "12                                 SE                   5  0.093845   \n",
       "13                                 SE                  10  0.066985   \n",
       "14                                 SE                  15  0.041216   \n",
       "15                               UMAP                   5  0.058643   \n",
       "16                               UMAP                  10  0.151693   \n",
       "17                               UMAP                  15  0.056621   \n",
       "\n",
       "    Consistency  Diversity  \n",
       "0      0.000000          0  \n",
       "1      0.000000          0  \n",
       "2      0.000000          0  \n",
       "3      0.000000          0  \n",
       "4      0.000000          0  \n",
       "5      0.000000          0  \n",
       "6      0.066667          0  \n",
       "7      0.066667          0  \n",
       "8      0.066667          0  \n",
       "9      0.233333          0  \n",
       "10     0.233333          0  \n",
       "11     0.233333          0  \n",
       "12     0.000000          0  \n",
       "13     0.000000          0  \n",
       "14     0.000000          0  \n",
       "15     0.000000          0  \n",
       "16     0.000000          0  \n",
       "17     0.000000          0  "
      ]
     },
     "execution_count": 70,
     "metadata": {},
     "output_type": "execute_result"
    }
   ],
   "source": [
    "totalFairness"
   ]
  },
  {
   "cell_type": "code",
   "execution_count": 71,
   "metadata": {
    "ExecuteTime": {
     "end_time": "2020-06-17T08:42:36.900058Z",
     "start_time": "2020-06-17T08:42:36.838051Z"
    },
    "scrolled": true
   },
   "outputs": [],
   "source": [
    "for algo in dralgos:\n",
    "    totalFairness.loc[(totalFairness[\"Dimensionality Reduction Algorithm\"]==algo) & (totalFairness[\"Number of Personas\"]==5),'Diversity'] = diversitydf.loc[diversitydf[\"persona_group\"]==\"coverage_All_5__percentage\"][algo].iloc[0]\n",
    "    totalFairness.loc[(totalFairness[\"Dimensionality Reduction Algorithm\"]==algo) & (totalFairness[\"Number of Personas\"]==10),'Diversity'] = diversitydf.loc[diversitydf[\"persona_group\"]==\"coverage_All_10__percentage\"][algo].iloc[0]\n",
    "    totalFairness.loc[(totalFairness[\"Dimensionality Reduction Algorithm\"]==algo) & (totalFairness[\"Number of Personas\"]==15),'Diversity'] = diversitydf.loc[diversitydf[\"persona_group\"]==\"coverage_All_15__percentage\"][algo].iloc[0]"
   ]
  },
  {
   "cell_type": "code",
   "execution_count": 72,
   "metadata": {
    "ExecuteTime": {
     "end_time": "2020-06-17T08:42:36.909049Z",
     "start_time": "2020-06-17T08:42:36.902050Z"
    },
    "scrolled": true
   },
   "outputs": [],
   "source": [
    "totalFairness.to_csv(\"DFC.csv\",index=False)"
   ]
  },
  {
   "cell_type": "code",
   "execution_count": 73,
   "metadata": {
    "ExecuteTime": {
     "end_time": "2020-06-17T08:42:36.921049Z",
     "start_time": "2020-06-17T08:42:36.911049Z"
    },
    "scrolled": true
   },
   "outputs": [
    {
     "data": {
      "text/html": [
       "<div>\n",
       "<style scoped>\n",
       "    .dataframe tbody tr th:only-of-type {\n",
       "        vertical-align: middle;\n",
       "    }\n",
       "\n",
       "    .dataframe tbody tr th {\n",
       "        vertical-align: top;\n",
       "    }\n",
       "\n",
       "    .dataframe thead th {\n",
       "        text-align: right;\n",
       "    }\n",
       "</style>\n",
       "<table border=\"1\" class=\"dataframe\">\n",
       "  <thead>\n",
       "    <tr style=\"text-align: right;\">\n",
       "      <th></th>\n",
       "      <th>Dimensionality Reduction Algorithm</th>\n",
       "      <th>Number of Personas</th>\n",
       "      <th>Fairness</th>\n",
       "      <th>Consistency</th>\n",
       "      <th>Diversity</th>\n",
       "    </tr>\n",
       "  </thead>\n",
       "  <tbody>\n",
       "    <tr>\n",
       "      <th>0</th>\n",
       "      <td>Clustering</td>\n",
       "      <td>5</td>\n",
       "      <td>0.131005</td>\n",
       "      <td>0.000000</td>\n",
       "      <td>0.030928</td>\n",
       "    </tr>\n",
       "    <tr>\n",
       "      <th>1</th>\n",
       "      <td>Clustering</td>\n",
       "      <td>10</td>\n",
       "      <td>0.045071</td>\n",
       "      <td>0.000000</td>\n",
       "      <td>0.051546</td>\n",
       "    </tr>\n",
       "    <tr>\n",
       "      <th>2</th>\n",
       "      <td>Clustering</td>\n",
       "      <td>15</td>\n",
       "      <td>0.122979</td>\n",
       "      <td>0.000000</td>\n",
       "      <td>0.056701</td>\n",
       "    </tr>\n",
       "    <tr>\n",
       "      <th>3</th>\n",
       "      <td>LDA</td>\n",
       "      <td>5</td>\n",
       "      <td>0.130944</td>\n",
       "      <td>0.000000</td>\n",
       "      <td>0.041237</td>\n",
       "    </tr>\n",
       "    <tr>\n",
       "      <th>4</th>\n",
       "      <td>LDA</td>\n",
       "      <td>10</td>\n",
       "      <td>0.086350</td>\n",
       "      <td>0.000000</td>\n",
       "      <td>0.061856</td>\n",
       "    </tr>\n",
       "    <tr>\n",
       "      <th>5</th>\n",
       "      <td>LDA</td>\n",
       "      <td>15</td>\n",
       "      <td>0.143017</td>\n",
       "      <td>0.000000</td>\n",
       "      <td>0.087629</td>\n",
       "    </tr>\n",
       "    <tr>\n",
       "      <th>6</th>\n",
       "      <td>NMF</td>\n",
       "      <td>5</td>\n",
       "      <td>0.134114</td>\n",
       "      <td>0.066667</td>\n",
       "      <td>0.036082</td>\n",
       "    </tr>\n",
       "    <tr>\n",
       "      <th>7</th>\n",
       "      <td>NMF</td>\n",
       "      <td>10</td>\n",
       "      <td>0.050950</td>\n",
       "      <td>0.066667</td>\n",
       "      <td>0.046392</td>\n",
       "    </tr>\n",
       "    <tr>\n",
       "      <th>8</th>\n",
       "      <td>NMF</td>\n",
       "      <td>15</td>\n",
       "      <td>0.134482</td>\n",
       "      <td>0.066667</td>\n",
       "      <td>0.123711</td>\n",
       "    </tr>\n",
       "    <tr>\n",
       "      <th>9</th>\n",
       "      <td>PCA</td>\n",
       "      <td>5</td>\n",
       "      <td>0.045438</td>\n",
       "      <td>0.233333</td>\n",
       "      <td>0.036082</td>\n",
       "    </tr>\n",
       "    <tr>\n",
       "      <th>10</th>\n",
       "      <td>PCA</td>\n",
       "      <td>10</td>\n",
       "      <td>0.118572</td>\n",
       "      <td>0.233333</td>\n",
       "      <td>0.067010</td>\n",
       "    </tr>\n",
       "    <tr>\n",
       "      <th>11</th>\n",
       "      <td>PCA</td>\n",
       "      <td>15</td>\n",
       "      <td>0.190706</td>\n",
       "      <td>0.233333</td>\n",
       "      <td>0.046392</td>\n",
       "    </tr>\n",
       "    <tr>\n",
       "      <th>12</th>\n",
       "      <td>SE</td>\n",
       "      <td>5</td>\n",
       "      <td>0.093845</td>\n",
       "      <td>0.000000</td>\n",
       "      <td>0.046392</td>\n",
       "    </tr>\n",
       "    <tr>\n",
       "      <th>13</th>\n",
       "      <td>SE</td>\n",
       "      <td>10</td>\n",
       "      <td>0.066985</td>\n",
       "      <td>0.000000</td>\n",
       "      <td>0.077320</td>\n",
       "    </tr>\n",
       "    <tr>\n",
       "      <th>14</th>\n",
       "      <td>SE</td>\n",
       "      <td>15</td>\n",
       "      <td>0.041216</td>\n",
       "      <td>0.000000</td>\n",
       "      <td>0.092784</td>\n",
       "    </tr>\n",
       "    <tr>\n",
       "      <th>15</th>\n",
       "      <td>UMAP</td>\n",
       "      <td>5</td>\n",
       "      <td>0.058643</td>\n",
       "      <td>0.000000</td>\n",
       "      <td>0.046392</td>\n",
       "    </tr>\n",
       "    <tr>\n",
       "      <th>16</th>\n",
       "      <td>UMAP</td>\n",
       "      <td>10</td>\n",
       "      <td>0.151693</td>\n",
       "      <td>0.000000</td>\n",
       "      <td>0.056701</td>\n",
       "    </tr>\n",
       "    <tr>\n",
       "      <th>17</th>\n",
       "      <td>UMAP</td>\n",
       "      <td>15</td>\n",
       "      <td>0.056621</td>\n",
       "      <td>0.000000</td>\n",
       "      <td>0.092784</td>\n",
       "    </tr>\n",
       "  </tbody>\n",
       "</table>\n",
       "</div>"
      ],
      "text/plain": [
       "   Dimensionality Reduction Algorithm  Number of Personas  Fairness  \\\n",
       "0                          Clustering                   5  0.131005   \n",
       "1                          Clustering                  10  0.045071   \n",
       "2                          Clustering                  15  0.122979   \n",
       "3                                 LDA                   5  0.130944   \n",
       "4                                 LDA                  10  0.086350   \n",
       "5                                 LDA                  15  0.143017   \n",
       "6                                 NMF                   5  0.134114   \n",
       "7                                 NMF                  10  0.050950   \n",
       "8                                 NMF                  15  0.134482   \n",
       "9                                 PCA                   5  0.045438   \n",
       "10                                PCA                  10  0.118572   \n",
       "11                                PCA                  15  0.190706   \n",
       "12                                 SE                   5  0.093845   \n",
       "13                                 SE                  10  0.066985   \n",
       "14                                 SE                  15  0.041216   \n",
       "15                               UMAP                   5  0.058643   \n",
       "16                               UMAP                  10  0.151693   \n",
       "17                               UMAP                  15  0.056621   \n",
       "\n",
       "    Consistency  Diversity  \n",
       "0      0.000000   0.030928  \n",
       "1      0.000000   0.051546  \n",
       "2      0.000000   0.056701  \n",
       "3      0.000000   0.041237  \n",
       "4      0.000000   0.061856  \n",
       "5      0.000000   0.087629  \n",
       "6      0.066667   0.036082  \n",
       "7      0.066667   0.046392  \n",
       "8      0.066667   0.123711  \n",
       "9      0.233333   0.036082  \n",
       "10     0.233333   0.067010  \n",
       "11     0.233333   0.046392  \n",
       "12     0.000000   0.046392  \n",
       "13     0.000000   0.077320  \n",
       "14     0.000000   0.092784  \n",
       "15     0.000000   0.046392  \n",
       "16     0.000000   0.056701  \n",
       "17     0.000000   0.092784  "
      ]
     },
     "execution_count": 73,
     "metadata": {},
     "output_type": "execute_result"
    }
   ],
   "source": [
    "totalFairness"
   ]
  },
  {
   "cell_type": "code",
   "execution_count": null,
   "metadata": {},
   "outputs": [],
   "source": []
  }
 ],
 "metadata": {
  "kernelspec": {
   "display_name": "Python 3",
   "language": "python",
   "name": "python3"
  },
  "language_info": {
   "codemirror_mode": {
    "name": "ipython",
    "version": 3
   },
   "file_extension": ".py",
   "mimetype": "text/x-python",
   "name": "python",
   "nbconvert_exporter": "python",
   "pygments_lexer": "ipython3",
   "version": "3.7.4"
  }
 },
 "nbformat": 4,
 "nbformat_minor": 4
}
